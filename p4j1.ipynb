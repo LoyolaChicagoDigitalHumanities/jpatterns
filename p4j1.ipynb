{
 "metadata": {
  "name": "",
  "signature": "sha256:42c8600216daff7546805044cb2495e539cc11fcfad85db176cbf5aaff922315"
 },
 "nbformat": 3,
 "nbformat_minor": 0,
 "worksheets": [
  {
   "cells": [
    {
     "cell_type": "code",
     "collapsed": false,
     "input": [
      "from abjad import *\n",
      "%load_ext abjad.ext.ipython"
     ],
     "language": "python",
     "metadata": {},
     "outputs": [
      {
       "output_type": "stream",
       "stream": "stdout",
       "text": [
        "The abjad.ext.ipython extension is already loaded. To reload it, use:\n",
        "  %reload_ext abjad.ext.ipython\n"
       ]
      }
     ],
     "prompt_number": 6
    },
    {
     "cell_type": "code",
     "collapsed": false,
     "input": [
      "import sideman\n",
      "c_scale = sideman.JazzScale(0)"
     ],
     "language": "python",
     "metadata": {},
     "outputs": [],
     "prompt_number": 7
    },
    {
     "cell_type": "code",
     "collapsed": false,
     "input": [
      "pitches = c_scale.get_altered_pitches_as_named([1, 3, 5, \"+1\", 5, 3, 1])\n",
      "print(pitches)"
     ],
     "language": "python",
     "metadata": {},
     "outputs": [
      {
       "output_type": "stream",
       "stream": "stdout",
       "text": [
        "[NamedPitch(\"c'\"), NamedPitch(\"e'\"), NamedPitch(\"g'\"), NamedPitch(\"c''\"), NamedPitch(\"g'\"), NamedPitch(\"e'\"), NamedPitch(\"c'\")]\n"
       ]
      }
     ],
     "prompt_number": 8
    },
    {
     "cell_type": "code",
     "collapsed": false,
     "input": [
      "pitches = c_scale.get_altered_pitches([1, 3, 5, \"+1\", 5, 3, 1])\n",
      "print(pitches)"
     ],
     "language": "python",
     "metadata": {},
     "outputs": [
      {
       "output_type": "stream",
       "stream": "stdout",
       "text": [
        "[0, 4, 7, 12, 7, 4, 0]\n"
       ]
      }
     ],
     "prompt_number": 9
    },
    {
     "cell_type": "code",
     "collapsed": false,
     "input": [
      "pitches = [0, 4, 7, 12, 7, 4, 0]\n",
      "durations = [sideman.eighth] * 3 + [sideman.eighth] * 3 + [sideman.half]\n",
      "notes = scoretools.make_notes(pitches, durations)"
     ],
     "language": "python",
     "metadata": {},
     "outputs": [],
     "prompt_number": 11
    },
    {
     "cell_type": "code",
     "collapsed": false,
     "input": [
      "t1_notes = notes[0:3]\n",
      "t2_notes = notes[3:6]\n",
      "last_note = notes[6]\n",
      "t1 = Tuplet(Fraction(2, 3), t1_notes)\n",
      "t2 = Tuplet(Fraction(2, 3), t2_notes)\n",
      "measure = Measure((4, 4))\n",
      "measure.append(t1)\n",
      "measure.append(t2)\n",
      "measure.append(last_note)\n",
      "show(measure)"
     ],
     "language": "python",
     "metadata": {},
     "outputs": [
      {
       "metadata": {},
       "output_type": "display_data",
       "png": "[encoded data removed]"
      }
     ],
     "prompt_number": 12
    },
    {
     "cell_type": "code",
     "collapsed": false,
     "input": [
      "pattern = Staff()\n",
      "pattern.append(measure)\n",
      "show(pattern)"
     ],
     "language": "python",
     "metadata": {},
     "outputs": [
      {
       "metadata": {},
       "output_type": "display_data",
       "png": "[encoded data removed]"
      }
     ],
     "prompt_number": 13
    },
    {
     "cell_type": "code",
     "collapsed": false,
     "input": [
      "pitches = jazz_scale.get_chord_as_named([1 ,3, 5])\n",
      "chord_measure = Measure( (4, 4))\n",
      "chord = Chord(pitches, (4, 4))\n",
      "chord_measure.append(chord)\n",
      "chords = Staff(context_name='ChordNames')\n",
      "chords.append(chord_measure)\n",
      "show(chords)"
     ],
     "language": "python",
     "metadata": {},
     "outputs": [
      {
       "ename": "NameError",
       "evalue": "name 'jazz_scale' is not defined",
       "output_type": "pyerr",
       "traceback": [
        "\u001b[0;31m---------------------------------------------------------------------------\u001b[0m\n\u001b[0;31mNameError\u001b[0m                                 Traceback (most recent call last)",
        "\u001b[0;32m<ipython-input-14-1cb1a8e0c75c>\u001b[0m in \u001b[0;36m<module>\u001b[0;34m()\u001b[0m\n\u001b[0;32m----> 1\u001b[0;31m \u001b[0mpitches\u001b[0m \u001b[0;34m=\u001b[0m \u001b[0mjazz_scale\u001b[0m\u001b[0;34m.\u001b[0m\u001b[0mget_chord_as_named\u001b[0m\u001b[0;34m(\u001b[0m\u001b[0;34m[\u001b[0m\u001b[0;36m1\u001b[0m \u001b[0;34m,\u001b[0m\u001b[0;36m3\u001b[0m\u001b[0;34m,\u001b[0m \u001b[0;36m5\u001b[0m\u001b[0;34m]\u001b[0m\u001b[0;34m)\u001b[0m\u001b[0;34m\u001b[0m\u001b[0m\n\u001b[0m\u001b[1;32m      2\u001b[0m \u001b[0mchord_measure\u001b[0m \u001b[0;34m=\u001b[0m \u001b[0mMeasure\u001b[0m\u001b[0;34m(\u001b[0m \u001b[0;34m(\u001b[0m\u001b[0;36m4\u001b[0m\u001b[0;34m,\u001b[0m \u001b[0;36m4\u001b[0m\u001b[0;34m)\u001b[0m\u001b[0;34m)\u001b[0m\u001b[0;34m\u001b[0m\u001b[0m\n\u001b[1;32m      3\u001b[0m \u001b[0mchord\u001b[0m \u001b[0;34m=\u001b[0m \u001b[0mChord\u001b[0m\u001b[0;34m(\u001b[0m\u001b[0mpitches\u001b[0m\u001b[0;34m,\u001b[0m \u001b[0;34m(\u001b[0m\u001b[0;36m4\u001b[0m\u001b[0;34m,\u001b[0m \u001b[0;36m4\u001b[0m\u001b[0;34m)\u001b[0m\u001b[0;34m)\u001b[0m\u001b[0;34m\u001b[0m\u001b[0m\n\u001b[1;32m      4\u001b[0m \u001b[0mchord_measure\u001b[0m\u001b[0;34m.\u001b[0m\u001b[0mappend\u001b[0m\u001b[0;34m(\u001b[0m\u001b[0mchord\u001b[0m\u001b[0;34m)\u001b[0m\u001b[0;34m\u001b[0m\u001b[0m\n\u001b[1;32m      5\u001b[0m \u001b[0mchords\u001b[0m \u001b[0;34m=\u001b[0m \u001b[0mStaff\u001b[0m\u001b[0;34m(\u001b[0m\u001b[0mcontext_name\u001b[0m\u001b[0;34m=\u001b[0m\u001b[0;34m'ChordNames'\u001b[0m\u001b[0;34m)\u001b[0m\u001b[0;34m\u001b[0m\u001b[0m\n",
        "\u001b[0;31mNameError\u001b[0m: name 'jazz_scale' is not defined"
       ]
      }
     ],
     "prompt_number": 14
    },
    {
     "cell_type": "code",
     "collapsed": false,
     "input": [
      "show(chords)"
     ],
     "language": "python",
     "metadata": {},
     "outputs": []
    },
    {
     "cell_type": "code",
     "collapsed": false,
     "input": [
      "show(pattern)\n"
     ],
     "language": "python",
     "metadata": {},
     "outputs": []
    },
    {
     "cell_type": "code",
     "collapsed": false,
     "input": [
      "score = Score([chords, pattern]) \n",
      "show(score)"
     ],
     "language": "python",
     "metadata": {},
     "outputs": []
    },
    {
     "cell_type": "code",
     "collapsed": false,
     "input": [],
     "language": "python",
     "metadata": {},
     "outputs": []
    },
    {
     "cell_type": "code",
     "collapsed": false,
     "input": [],
     "language": "python",
     "metadata": {},
     "outputs": []
    }
   ],
   "metadata": {}
  }
 ]
}