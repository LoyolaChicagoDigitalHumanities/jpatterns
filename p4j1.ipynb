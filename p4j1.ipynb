{
 "metadata": {
  "name": "",
  "signature": "sha256:2a1cd18f5e794e4fd49ddeadd2b9d0ed2647064bc358040420001621cb1f6e5d"
 },
 "nbformat": 3,
 "nbformat_minor": 0,
 "worksheets": [
  {
   "cells": [
    {
     "cell_type": "heading",
     "level": 1,
     "metadata": {},
     "source": [
      "Jazz Pattern 1"
     ]
    },
    {
     "cell_type": "markdown",
     "metadata": {},
     "source": [
      "This is based on Patterns for Jazz (Pattern 1) by Coker, Casale, Campbell, and Greene. This pattern cycles through all 12 keys in increasing pitch order. It's one of the most basic patterns yet manages to be interesting by having two 1/4-note tuplets (often associated with the jazz idiom). "
     ]
    },
    {
     "cell_type": "markdown",
     "metadata": {},
     "source": [
      "The following are required to use Abjad and the ipython noteboook integration, which we are using to provide an annotated explanation to how this and other patterns are built using Abjad."
     ]
    },
    {
     "cell_type": "code",
     "collapsed": false,
     "input": [
      "from abjad import *\n",
      "%load_ext abjad.ext.ipython"
     ],
     "language": "python",
     "metadata": {},
     "outputs": [],
     "prompt_number": 1
    },
    {
     "cell_type": "markdown",
     "metadata": {},
     "source": [
      "sideman is a collection of helper classes/functions we have created, specifically for working with these patterns. Almost all of the patterns in our explorations are initially specified in C on treble clef instruments, beginning with middle C (pitch 0). So we specify the patterns using scale degrees and then transpose them into the key(s) of interest.\n",
      "\n",
      "In the following, c_scale will include the pitches starting at middle C."
     ]
    },
    {
     "cell_type": "code",
     "collapsed": false,
     "input": [
      "import sideman\n",
      "c_scale = sideman.JazzScale(0)"
     ],
     "language": "python",
     "metadata": {},
     "outputs": [],
     "prompt_number": 2
    },
    {
     "cell_type": "markdown",
     "metadata": {},
     "source": [
      "get_altered_pitches_as_named() is a special method provided as part of the JazzScale class that is specifically designed for working with scale degrees (the way jazz musicians tend to think) and alterations thereupon. You can specify a list of integral (scale degrees) or strings. You can prefix any scale degree with any number of plus/minus symbols to indicate any number of octaves to raise the note up or down. So for example, in the C major scale, degree 1 is the first degree (or middle C). \"+1\" is the C one octave higher than C. \"++1\" is two octaves up, etc. You may also append \"f\" or \"s\" to indicate a sharped/flatted degree. e.g. one of the most famous alterations is the sharped 4th or the flat 5th. So you could write this as \"4s\" or \"5f\", respectively.\n",
      "\n",
      "As you can see below, we are getting c', e', g', c'', g', e', c'. \"+1\" gives us the higher C."
     ]
    },
    {
     "cell_type": "code",
     "collapsed": false,
     "input": [
      "pitches = c_scale.get_altered_pitches_as_named([1, 3, 5, \"+1\", 5, 3, 1])\n",
      "print(pitches)"
     ],
     "language": "python",
     "metadata": {},
     "outputs": [
      {
       "output_type": "stream",
       "stream": "stdout",
       "text": [
        "[NamedPitch(\"c'\"), NamedPitch(\"e'\"), NamedPitch(\"g'\"), NamedPitch(\"c''\"), NamedPitch(\"g'\"), NamedPitch(\"e'\"), NamedPitch(\"c'\")]\n"
       ]
      }
     ],
     "prompt_number": 3
    },
    {
     "cell_type": "markdown",
     "metadata": {},
     "source": [
      "It probably goes without saying, but thinking in terms of scale degrees (with alterations) is easier than thinking in terms of pitches. This example might not do complete justice to the concept, given the simplicity of our first pattern. Later patterns take advantage of a significant number of alterations, which will make this indispensible."
     ]
    },
    {
     "cell_type": "code",
     "collapsed": false,
     "input": [
      "pitches = c_scale.get_altered_pitches([1, 3, 5, \"+1\", 5, 3, 1])\n",
      "print(pitches)"
     ],
     "language": "python",
     "metadata": {},
     "outputs": [
      {
       "output_type": "stream",
       "stream": "stdout",
       "text": [
        "[0, 4, 7, 12, 7, 4, 0]\n"
       ]
      }
     ],
     "prompt_number": 4
    },
    {
     "cell_type": "markdown",
     "metadata": {},
     "source": [
      "The first pattern works as follows. It's a 4/4 pattern. That is, the entire pattern occupies one 4/4 measure. The first beat is just a tuplet (degrees 1, 3, and 5 in key of C). The second beat is also a tuplet (degrees +1, 5, 3) where 1 is raised an octave. The third (and fourth) beat land on a half note. \n",
      "\n",
      "We specify this by creating a list of durations that are in 1-1 correspondence and then passing both down to scoretools.make_notes(), which Abjad uses to *make music for us*.\n",
      "\n",
      "One might wonder about exactly what might be going on with the tuplets here? Many of these details are actually best left to the Abjad documentation. The three eighth notes of the first tuplet (or triplet) have a combined duration of 3/8. The fraction 2/3 is used to indicate that this is a \"3 against 2\" Doing the math leads to $3/8 * 2/3 = 6/24 = 1/4$."
     ]
    },
    {
     "cell_type": "code",
     "collapsed": false,
     "input": [
      "durations = [sideman.eighth] * 3 + [sideman.eighth] * 3 + [sideman.half]\n",
      "notes = scoretools.make_notes(pitches, durations)"
     ],
     "language": "python",
     "metadata": {},
     "outputs": [],
     "prompt_number": 5
    },
    {
     "cell_type": "code",
     "collapsed": false,
     "input": [
      "t1_notes = notes[0:3]\n",
      "t2_notes = notes[3:6]\n",
      "last_note = notes[6]\n",
      "t1 = Tuplet(Fraction(2, 3), t1_notes)\n",
      "t2 = Tuplet(Fraction(2, 3), t2_notes)\n",
      "measure = Measure((4, 4))\n",
      "measure.append(t1)\n",
      "measure.append(t2)\n",
      "measure.append(last_note)\n",
      "show(measure)"
     ],
     "language": "python",
     "metadata": {},
     "outputs": [
      {
       "metadata": {},
       "output_type": "display_data",
       "png": "[encoded data removed]"
      }
     ],
     "prompt_number": 6
    },
    {
     "cell_type": "code",
     "collapsed": false,
     "input": [
      "pattern = Staff()\n",
      "pattern.append(measure)\n",
      "show(pattern)"
     ],
     "language": "python",
     "metadata": {},
     "outputs": [
      {
       "metadata": {},
       "output_type": "display_data",
       "png": "[encoded data removed]"
      }
     ],
     "prompt_number": 7
    },
    {
     "cell_type": "markdown",
     "metadata": {},
     "source": [
      "So a big part of what we wanted to do from the beginning is to use Abjad to make *lead sheets*. A lead sheet is what makes being a jazz musician (or improviser in general) special. Typically, the lead sheet contains the tune (in this case, a pattern) and the chord symbols. In this first basic pattern, the chord symbol is telling you what chord (in this case key) the pattern is in. You can kind of figure this out on your own by looking at the notes that appear in the pattern but we wanted to follow the tradition of patterns books in general by putting an appropriate chord symbol at the top. While these chords are all just basic tonic chords, later patterns will use more sophisticated chords. For example, here is how to generate a C7 chord, built from the [1, 3, 5, 7] scale degrees."
     ]
    },
    {
     "cell_type": "code",
     "collapsed": false,
     "input": [
      "pitches = c_scale.get_altered_pitches([1, 3, 5, 7 ])\n",
      "print(\"Pitches from Altered\", pitches)\n",
      "chord_measure = Measure( (4, 4))\n",
      "chord = Chord(pitches, (4, 4))\n",
      "chord_measure.append(chord)\n",
      "chords = Staff(context_name='ChordNames')\n",
      "chords.append(chord_measure)\n",
      "show(chords)\n"
     ],
     "language": "python",
     "metadata": {},
     "outputs": [
      {
       "output_type": "stream",
       "stream": "stdout",
       "text": [
        "Pitches from Altered [0, 4, 7, 11]\n"
       ]
      },
      {
       "metadata": {},
       "output_type": "display_data",
       "png": "[encoded data removed]"
      }
     ],
     "prompt_number": 8
    },
    {
     "cell_type": "markdown",
     "metadata": {},
     "source": [
      "And here is how to generate the minor chord. We just do this by flatting the 3rd degree of the major scale."
     ]
    },
    {
     "cell_type": "code",
     "collapsed": false,
     "input": [
      "pitches = c_scale.get_altered_pitches([1, \"3f\", 5, 7 ])\n",
      "print(\"Pitches from Altered\", pitches)\n",
      "chord_measure = Measure( (4, 4))\n",
      "chord = Chord(pitches, (4, 4))\n",
      "chord_measure.append(chord)\n",
      "chords = Staff(context_name='ChordNames')\n",
      "chords.append(chord_measure)\n",
      "show(chords)"
     ],
     "language": "python",
     "metadata": {},
     "outputs": [
      {
       "output_type": "stream",
       "stream": "stdout",
       "text": [
        "Pitches from Altered [0, 3, 7, 11]\n"
       ]
      },
      {
       "metadata": {},
       "output_type": "display_data",
       "png": "[encoded data removed]"
      }
     ],
     "prompt_number": 17
    },
    {
     "cell_type": "code",
     "collapsed": false,
     "input": [
      "pitches = c_scale.get_altered_pitches([1, 3, 5, 6 ])\n",
      "print(\"Pitches from Altered\", pitches)\n",
      "chord_measure = Measure( (4, 4))\n",
      "chord = Chord(pitches, (4, 4))\n",
      "chord_measure.append(chord)\n",
      "chords = Staff(context_name='ChordNames')\n",
      "chords.append(chord_measure)\n",
      "show(chords)"
     ],
     "language": "python",
     "metadata": {},
     "outputs": [
      {
       "output_type": "stream",
       "stream": "stdout",
       "text": [
        "Pitches from Altered [0, 4, 7, 9]\n"
       ]
      },
      {
       "metadata": {},
       "output_type": "display_data",
       "png": "[encoded data removed]"
      }
     ],
     "prompt_number": 18
    },
    {
     "cell_type": "markdown",
     "metadata": {},
     "source": [
      "Ok, both of these are cool, but we aren't in need of a 7th chord of any kind right now. We just need an ordinary tonic chord as this is meant to be one of the first patterns one would practice. Pianists: Just think of putting C/E/G in the left hand and playing the pattern in the right hand and you're set.\n",
      "\n",
      "So we get the pitches for scaled degres [1, 3, 5] and make a chord out of the underlying pitches for 4/4 time. Why? We want this chord to last for the entire duration of the 4/4 pattern. When we switch the key in the next measure, we'll generate the D-flat chord with exactly the same pattern as used in C, simply starting at scale degree 1 (D-flat) of the D-flat chord."
     ]
    },
    {
     "cell_type": "code",
     "collapsed": false,
     "input": [
      "pitches = c_scale.get_chord_as_named([1 ,3, 5])\n",
      "chord_measure = Measure( (4, 4))\n",
      "chord = Chord(pitches, (4, 4))\n",
      "chord_measure.append(chord)\n",
      "chords = Staff(context_name='ChordNames')\n",
      "chords.append(chord_measure)\n",
      "show(chords)"
     ],
     "language": "python",
     "metadata": {},
     "outputs": [
      {
       "metadata": {},
       "output_type": "display_data",
       "png": "[encoded data removed]"
      }
     ],
     "prompt_number": 10
    },
    {
     "cell_type": "code",
     "collapsed": false,
     "input": [
      "show(chords)"
     ],
     "language": "python",
     "metadata": {},
     "outputs": [
      {
       "metadata": {},
       "output_type": "display_data",
       "png": "[encoded data removed]"
      }
     ],
     "prompt_number": 11
    },
    {
     "cell_type": "code",
     "collapsed": false,
     "input": [
      "show(pattern)\n"
     ],
     "language": "python",
     "metadata": {},
     "outputs": [
      {
       "metadata": {},
       "output_type": "display_data",
       "png": "[encoded data removed]"
      }
     ],
     "prompt_number": 12
    },
    {
     "cell_type": "code",
     "collapsed": false,
     "input": [
      "score = Score([chords, pattern]) \n",
      "show(score)"
     ],
     "language": "python",
     "metadata": {},
     "outputs": [
      {
       "metadata": {},
       "output_type": "display_data",
       "png": "[encoded data removed]"
      }
     ],
     "prompt_number": 13
    },
    {
     "cell_type": "code",
     "collapsed": false,
     "input": [
      "import jazz001"
     ],
     "language": "python",
     "metadata": {},
     "outputs": [],
     "prompt_number": 14
    },
    {
     "cell_type": "code",
     "collapsed": false,
     "input": [
      "score = jazz001.get_score()"
     ],
     "language": "python",
     "metadata": {},
     "outputs": [],
     "prompt_number": 15
    },
    {
     "cell_type": "code",
     "collapsed": false,
     "input": [
      "show(score)"
     ],
     "language": "python",
     "metadata": {},
     "outputs": [
      {
       "metadata": {},
       "output_type": "display_data",
       "png": "[encoded data removed]"
      }
     ],
     "prompt_number": 16
    }
   ],
   "metadata": {}
  }
 ]
}