{
 "metadata": {
  "name": "",
  "signature": "sha256:382953668b1839e225b51379b84cf302534bd00bf0a2969063b3cd5e9b6f9c51"
 },
 "nbformat": 3,
 "nbformat_minor": 0,
 "worksheets": [
  {
   "cells": [
    {
     "cell_type": "code",
     "collapsed": false,
     "input": [
      "from abjad import *\n",
      "%load_ext abjad.ext.ipython"
     ],
     "language": "python",
     "metadata": {},
     "outputs": [],
     "prompt_number": 1
    },
    {
     "cell_type": "code",
     "collapsed": false,
     "input": [
      "import sideman\n",
      "c_scale = sideman.JazzScale(0)"
     ],
     "language": "python",
     "metadata": {},
     "outputs": [],
     "prompt_number": 2
    },
    {
     "cell_type": "code",
     "collapsed": false,
     "input": [
      "pitches = c_scale.get_altered_pitches_as_named([1, 3, 5, \"+1\", 5, 3, 1])\n",
      "print(pitches)"
     ],
     "language": "python",
     "metadata": {},
     "outputs": [
      {
       "output_type": "stream",
       "stream": "stdout",
       "text": [
        "[NamedPitch(\"c'\"), NamedPitch(\"e'\"), NamedPitch(\"g'\"), NamedPitch(\"c''\"), NamedPitch(\"g'\"), NamedPitch(\"e'\"), NamedPitch(\"c'\")]\n"
       ]
      }
     ],
     "prompt_number": 3
    },
    {
     "cell_type": "code",
     "collapsed": false,
     "input": [
      "pitches = c_scale.get_altered_pitches([1, 3, 5, \"+1\", 5, 3, 1])\n",
      "print(pitches)"
     ],
     "language": "python",
     "metadata": {},
     "outputs": [
      {
       "output_type": "stream",
       "stream": "stdout",
       "text": [
        "[0, 4, 7, 12, 7, 4, 0]\n"
       ]
      }
     ],
     "prompt_number": 4
    },
    {
     "cell_type": "code",
     "collapsed": false,
     "input": [
      "pitches = [0, 4, 7, 12, 7, 4, 0]\n",
      "durations = [sideman.eighth] * 3 + [sideman.eighth] * 3 + [sideman.half]\n",
      "notes = scoretools.make_notes(pitches, durations)"
     ],
     "language": "python",
     "metadata": {},
     "outputs": [],
     "prompt_number": 5
    },
    {
     "cell_type": "code",
     "collapsed": false,
     "input": [
      "t1_notes = notes[0:3]\n",
      "t2_notes = notes[3:6]\n",
      "last_note = notes[6]\n",
      "t1 = Tuplet(Fraction(2, 3), t1_notes)\n",
      "t2 = Tuplet(Fraction(2, 3), t2_notes)\n",
      "measure = Measure((4, 4))\n",
      "measure.append(t1)\n",
      "measure.append(t2)\n",
      "measure.append(last_note)\n",
      "show(measure)"
     ],
     "language": "python",
     "metadata": {},
     "outputs": [
      {
       "metadata": {},
       "output_type": "display_data",
       "png": "[encoded data removed]"
      }
     ],
     "prompt_number": 6
    },
    {
     "cell_type": "code",
     "collapsed": false,
     "input": [
      "pattern = Staff()\n",
      "pattern.append(measure)\n",
      "show(pattern)"
     ],
     "language": "python",
     "metadata": {},
     "outputs": [
      {
       "metadata": {},
       "output_type": "display_data",
       "png": "[encoded data removed]"
      }
     ],
     "prompt_number": 7
    },
    {
     "cell_type": "code",
     "collapsed": false,
     "input": [
      "pitches = c_scale.get_chord_as_named([1 ,3, 5])\n",
      "chord_measure = Measure( (4, 4))\n",
      "chord = Chord(pitches, (4, 4))\n",
      "chord_measure.append(chord)\n",
      "chords = Staff(context_name='ChordNames')\n",
      "chords.append(chord_measure)\n",
      "show(chords)"
     ],
     "language": "python",
     "metadata": {},
     "outputs": [
      {
       "metadata": {},
       "output_type": "display_data",
       "png": "[encoded data removed]"
      }
     ],
     "prompt_number": 8
    },
    {
     "cell_type": "code",
     "collapsed": false,
     "input": [
      "show(chords)"
     ],
     "language": "python",
     "metadata": {},
     "outputs": [
      {
       "metadata": {},
       "output_type": "display_data",
       "png": "[encoded data removed]"
      }
     ],
     "prompt_number": 9
    },
    {
     "cell_type": "code",
     "collapsed": false,
     "input": [
      "show(pattern)\n"
     ],
     "language": "python",
     "metadata": {},
     "outputs": [
      {
       "metadata": {},
       "output_type": "display_data",
       "png": "[encoded data removed]"
      }
     ],
     "prompt_number": 10
    },
    {
     "cell_type": "code",
     "collapsed": false,
     "input": [
      "score = Score([chords, pattern]) \n",
      "show(score)"
     ],
     "language": "python",
     "metadata": {},
     "outputs": [
      {
       "metadata": {},
       "output_type": "display_data",
       "png": "[encoded data removed]"
      }
     ],
     "prompt_number": 11
    },
    {
     "cell_type": "code",
     "collapsed": false,
     "input": [],
     "language": "python",
     "metadata": {},
     "outputs": [],
     "prompt_number": 11
    },
    {
     "cell_type": "code",
     "collapsed": false,
     "input": [],
     "language": "python",
     "metadata": {},
     "outputs": [],
     "prompt_number": 11
    }
   ],
   "metadata": {}
  }
 ]
}